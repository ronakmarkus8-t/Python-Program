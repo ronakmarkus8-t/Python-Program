{
  "nbformat": 4,
  "nbformat_minor": 0,
  "metadata": {
    "colab": {
      "provenance": [],
      "authorship_tag": "ABX9TyNDVJE5vKqC0z9G0Htza7Qa",
      "include_colab_link": true
    },
    "kernelspec": {
      "name": "python3",
      "display_name": "Python 3"
    },
    "language_info": {
      "name": "python"
    }
  },
  "cells": [
    {
      "cell_type": "markdown",
      "metadata": {
        "id": "view-in-github",
        "colab_type": "text"
      },
      "source": [
        "<a href=\"https://colab.research.google.com/github/ronakmarkus8-t/Python-Program/blob/main/pythonlab.ipynb\" target=\"_parent\"><img src=\"https://colab.research.google.com/assets/colab-badge.svg\" alt=\"Open In Colab\"/></a>"
      ]
    },
    {
      "cell_type": "markdown",
      "source": [
        "Converts the first character to uppercase"
      ],
      "metadata": {
        "id": "zzpiY610vlja"
      }
    },
    {
      "cell_type": "code",
      "execution_count": null,
      "metadata": {
        "colab": {
          "base_uri": "https://localhost:8080/"
        },
        "id": "tyCKax6Yvb9E",
        "outputId": "1e119753-12ae-4319-d328-10f601dfe743"
      },
      "outputs": [
        {
          "output_type": "stream",
          "name": "stdout",
          "text": [
            "Enter a string: hello\n",
            "Modified string: Hello\n"
          ]
        }
      ],
      "source": [
        "user_input = input(\"Enter a string: \")\n",
        "if user_input:\n",
        "    result = user_input[0].upper() + user_input[1:]\n",
        "    print(\"Modified string:\", result)\n",
        "else:\n",
        "    print(\"You entered an empty string.\")\n"
      ]
    },
    {
      "cell_type": "markdown",
      "source": [
        "Converts string into lowercase"
      ],
      "metadata": {
        "id": "hr-YdCMnvu6p"
      }
    },
    {
      "cell_type": "code",
      "source": [
        "user_input = input(\"Enter a string: \")\n",
        "lowercase_string = user_input.lower()\n",
        "print(\"Lowercase version:\", lowercase_string)\n"
      ],
      "metadata": {
        "colab": {
          "base_uri": "https://localhost:8080/"
        },
        "id": "_yMQCFkiv0Uh",
        "outputId": "abea4dc5-3194-4921-fd82-fe99a6150cec"
      },
      "execution_count": null,
      "outputs": [
        {
          "output_type": "stream",
          "name": "stdout",
          "text": [
            "Enter a string: Hello\n",
            "Lowercase version: hello\n"
          ]
        }
      ]
    },
    {
      "cell_type": "markdown",
      "source": [
        "Returns a centered string"
      ],
      "metadata": {
        "id": "wsvl7GACv42R"
      }
    },
    {
      "cell_type": "code",
      "metadata": {
        "colab": {
          "base_uri": "https://localhost:8080/"
        },
        "id": "c89c1441",
        "outputId": "7be2f541-6bbb-43fc-b472-56fa69b98814"
      },
      "source": [
        "\n",
        "user_input = input(\"Enter a string to center: \")\n",
        "centered_string = user_input.center(width)\n",
        "print(\"Centered string:\", centered_string)"
      ],
      "execution_count": null,
      "outputs": [
        {
          "output_type": "stream",
          "name": "stdout",
          "text": [
            "Enter a string to center: Saviour\n",
            "Centered string: Saviour\n"
          ]
        }
      ]
    },
    {
      "cell_type": "markdown",
      "source": [
        "Returns the number of times a specified value occurs in a string"
      ],
      "metadata": {
        "id": "TsUAgkELwo2Z"
      }
    },
    {
      "cell_type": "code",
      "metadata": {
        "colab": {
          "base_uri": "https://localhost:8080/"
        },
        "id": "fee9b7d8",
        "outputId": "1bba44cd-4ee0-4b7a-8c5a-a21992c1b739"
      },
      "source": [
        "user_string = input(\"Enter string \")\n",
        "substring_to_count = input(\"Enter the substring to count: \")\n",
        "\n",
        "count = user_string.count(substring_to_count)\n",
        "\n",
        "print(f\"The substring '{substring_to_count}' occurs {count} times in the main string.\")"
      ],
      "execution_count": null,
      "outputs": [
        {
          "output_type": "stream",
          "name": "stdout",
          "text": [
            "Enter string hello\n",
            "Enter the substring to count: l\n",
            "The substring 'l' occurs 2 times in the main string.\n"
          ]
        }
      ]
    },
    {
      "cell_type": "markdown",
      "source": [
        "returns an encoded version of the string"
      ],
      "metadata": {
        "id": "Z_BGmydz41vr"
      }
    },
    {
      "cell_type": "code",
      "source": [
        "user_string = input(\"Enter a string to encode: \")\n",
        "encoded_string = user_string.encode('utf-8')\n",
        "print(\"Encoded string:\", encoded_string)"
      ],
      "metadata": {
        "colab": {
          "base_uri": "https://localhost:8080/"
        },
        "id": "Dvt8DMKJ5Dkb",
        "outputId": "563801ff-7d7a-413a-bd3a-5d9c672a2c3d"
      },
      "execution_count": null,
      "outputs": [
        {
          "output_type": "stream",
          "name": "stdout",
          "text": [
            "Enter a string to encode: Hello World\n",
            "Encoded string: b'Hello World'\n"
          ]
        }
      ]
    },
    {
      "cell_type": "markdown",
      "source": [
        "Swap two numbers using temp variable"
      ],
      "metadata": {
        "id": "flg-7IkS5wDz"
      }
    },
    {
      "cell_type": "code",
      "source": [
        "num1 = input(\"Enter the first number: \")\n",
        "num2 = input(\"Enter the second number: \")\n",
        "print(\"Before swapping:\")\n",
        "print(\"First number:\", num1)\n",
        "print(\"Second number:\", num2)\n",
        "temp = num1\n",
        "num1 = num2\n",
        "num2 = temp\n",
        "print(\"\\nAfter swapping:\")\n",
        "print(\"First number:\", num1)\n",
        "print(\"Second number:\", num2)"
      ],
      "metadata": {
        "colab": {
          "base_uri": "https://localhost:8080/"
        },
        "id": "4ZkZ-2un6MYL",
        "outputId": "eca0b4ae-0b00-4e37-c3f6-0f63bf02ee3d"
      },
      "execution_count": null,
      "outputs": [
        {
          "output_type": "stream",
          "name": "stdout",
          "text": [
            "Enter the first number: 56\n",
            "Enter the second number: 45\n",
            "Before swapping:\n",
            "First number: 56\n",
            "Second number: 45\n",
            "\n",
            "After swapping:\n",
            "First number: 45\n",
            "Second number: 56\n"
          ]
        }
      ]
    },
    {
      "cell_type": "markdown",
      "source": [
        "Print table of a number"
      ],
      "metadata": {
        "id": "04WJbE8H6du0"
      }
    },
    {
      "cell_type": "code",
      "source": [
        "num = int(input(\"Enter a number to print its table: \"))\n",
        "\n",
        "print(f\"Multiplication Table of {num}:\")\n",
        "for i in range(1, 11):\n",
        "   print(f\"{num} x {i} = {num * i}\")"
      ],
      "metadata": {
        "colab": {
          "base_uri": "https://localhost:8080/"
        },
        "id": "clB448Hu6qVK",
        "outputId": "50abb7d5-63c7-42f3-83dd-0786136b4415"
      },
      "execution_count": null,
      "outputs": [
        {
          "output_type": "stream",
          "name": "stdout",
          "text": [
            "Enter a number to print its table: 2\n",
            "Multiplication Table of 2:\n",
            "2 x 1 = 2\n",
            "2 x 2 = 4\n",
            "2 x 3 = 6\n",
            "2 x 4 = 8\n",
            "2 x 5 = 10\n",
            "2 x 6 = 12\n",
            "2 x 7 = 14\n",
            "2 x 8 = 16\n",
            "2 x 9 = 18\n",
            "2 x 10 = 20\n"
          ]
        }
      ]
    },
    {
      "cell_type": "markdown",
      "source": [
        "factorial of a number using loop"
      ],
      "metadata": {
        "id": "4vUDznhS61mU"
      }
    },
    {
      "cell_type": "code",
      "source": [
        "num = int(input(\"Enter a non-negative integer: \"))\n",
        "if num < 0:\n",
        "   print(\"Factorial is not defined for negative numbers\")\n",
        "elif num == 0:\n",
        "   print(\"The factorial of 0 is 1\")\n",
        "else:\n",
        "   factorial = 1\n",
        "   for i in range(1, num + 1):\n",
        "       factorial = factorial * i\n",
        "   print(f\"The factorial of {num} is {factorial}\")"
      ],
      "metadata": {
        "colab": {
          "base_uri": "https://localhost:8080/"
        },
        "id": "1k_0WiLW7B2z",
        "outputId": "ab1e285c-5888-42ba-8ff1-7f9471b6a7cb"
      },
      "execution_count": null,
      "outputs": [
        {
          "output_type": "stream",
          "name": "stdout",
          "text": [
            "Enter a non-negative integer: 6\n",
            "The factorial of 6 is 720\n"
          ]
        }
      ]
    },
    {
      "cell_type": "code",
      "source": [
        "rows = int(input(\"Enter the number of rows: \"))\n",
        "for i in range(1, rows + 1):\n",
        "    for j in range(1, i + 1):\n",
        "        print(j, end=\"\")\n",
        "    print()\n"
      ],
      "metadata": {
        "colab": {
          "base_uri": "https://localhost:8080/"
        },
        "id": "kepjd0PtSmWC",
        "outputId": "f82a4c45-eee8-4852-f0ec-2cc2bb8909e9"
      },
      "execution_count": null,
      "outputs": [
        {
          "output_type": "stream",
          "name": "stdout",
          "text": [
            "Enter the number of rows: 4\n",
            "1\n",
            "12\n",
            "123\n",
            "1234\n"
          ]
        }
      ]
    },
    {
      "cell_type": "code",
      "source": [
        "rows = int(input(\"Enter the number of rows: \"))\n",
        "num = 1\n",
        "for i in range(1, rows + 1):\n",
        "    for j in range(i):\n",
        "        print(num, end=\" \")\n",
        "        num += 1\n",
        "    print()\n"
      ],
      "metadata": {
        "colab": {
          "base_uri": "https://localhost:8080/"
        },
        "id": "fp1wSx9RSsja",
        "outputId": "10e89dd3-27f4-4a6d-da90-e663430de8a6"
      },
      "execution_count": null,
      "outputs": [
        {
          "output_type": "stream",
          "name": "stdout",
          "text": [
            "Enter the number of rows: 4\n",
            "1 \n",
            "2 3 \n",
            "4 5 6 \n",
            "7 8 9 10 \n"
          ]
        }
      ]
    },
    {
      "cell_type": "code",
      "source": [
        "rows = int(input(\"Enter the number of rows: \"))\n",
        "for i in range(rows, 0, -1):\n",
        "    print(\"*\" * i)\n"
      ],
      "metadata": {
        "colab": {
          "base_uri": "https://localhost:8080/"
        },
        "id": "3OPG2uibSwKS",
        "outputId": "b4a1e2d0-38db-402d-e3f0-7fd7fe1d9064"
      },
      "execution_count": null,
      "outputs": [
        {
          "output_type": "stream",
          "name": "stdout",
          "text": [
            "Enter the number of rows: 4\n",
            "****\n",
            "***\n",
            "**\n",
            "*\n"
          ]
        }
      ]
    },
    {
      "cell_type": "code",
      "source": [
        "rows = int(input(\"Enter the number of rows: \"))\n",
        "for i in range(1, rows + 1):\n",
        "    print(\"*\" * i)\n"
      ],
      "metadata": {
        "colab": {
          "base_uri": "https://localhost:8080/"
        },
        "id": "o9n7qH2XS1vK",
        "outputId": "cec9c86e-087c-48df-81aa-add41e289831"
      },
      "execution_count": null,
      "outputs": [
        {
          "output_type": "stream",
          "name": "stdout",
          "text": [
            "Enter the number of rows: 4\n",
            "*\n",
            "**\n",
            "***\n",
            "****\n"
          ]
        }
      ]
    },
    {
      "cell_type": "markdown",
      "source": [
        "Fibonacci series\n"
      ],
      "metadata": {
        "id": "CVDSZheBGI_j"
      }
    },
    {
      "cell_type": "code",
      "source": [
        "n = int(input(\"Enter the number of terms for Fibonacci series: \"))\n",
        "n1, n2 = 0, 1\n",
        "count = 0\n",
        "\n",
        "if n <= 0:\n",
        "   print(\"Please enter a positive integer\")\n",
        "elif n == 1:\n",
        "   print(\"Fibonacci sequence up to\", n, \":\")\n",
        "   print(n1)\n",
        "else:\n",
        "   print(\"Fibonacci sequence:\")\n",
        "   while count < n:\n",
        "       print(n1)\n",
        "       nth = n1 + n2\n",
        "       n1 = n2\n",
        "       n2 = nth\n",
        "       count += 1"
      ],
      "metadata": {
        "colab": {
          "base_uri": "https://localhost:8080/"
        },
        "id": "OaUMSyIsGNZz",
        "outputId": "30923ff5-de8f-4081-c403-35db9db1f46c"
      },
      "execution_count": null,
      "outputs": [
        {
          "output_type": "stream",
          "name": "stdout",
          "text": [
            "Enter the number of terms for Fibonacci series: 23\n",
            "Fibonacci sequence:\n",
            "0\n",
            "1\n",
            "1\n",
            "2\n",
            "3\n",
            "5\n",
            "8\n",
            "13\n",
            "21\n",
            "34\n",
            "55\n",
            "89\n",
            "144\n",
            "233\n",
            "377\n",
            "610\n",
            "987\n",
            "1597\n",
            "2584\n",
            "4181\n",
            "6765\n",
            "10946\n",
            "17711\n"
          ]
        }
      ]
    },
    {
      "cell_type": "markdown",
      "source": [
        "Reverse a number\n"
      ],
      "metadata": {
        "id": "_coUSpxHGhZj"
      }
    },
    {
      "cell_type": "code",
      "source": [
        "num = int(input(\"Enter a number to reverse: \"))\n",
        "reversed_num = 0\n",
        "\n",
        "while num > 0:\n",
        "    digit = num % 10\n",
        "    reversed_num = reversed_num * 10 + digit\n",
        "    num //= 10\n",
        "\n",
        "print(\"Reversed number:\", reversed_num)"
      ],
      "metadata": {
        "colab": {
          "base_uri": "https://localhost:8080/"
        },
        "id": "EHKR2psSGkND",
        "outputId": "3459e64b-c5d7-4e5a-dbb8-dbe30879e4b1"
      },
      "execution_count": null,
      "outputs": [
        {
          "output_type": "stream",
          "name": "stdout",
          "text": [
            "Enter a number to reverse: 56\n",
            "Reversed number: 65\n"
          ]
        }
      ]
    },
    {
      "cell_type": "markdown",
      "source": [
        "Count Digits in a Number\n"
      ],
      "metadata": {
        "id": "kiwHEhNcG2Mz"
      }
    },
    {
      "cell_type": "code",
      "source": [
        "num = int(input(\"Enter an integer: \"))\n",
        "count = 0\n",
        "temp = num\n",
        "\n",
        "if temp == 0:\n",
        "    count = 1\n",
        "else:\n",
        "    while temp > 0:\n",
        "        temp //= 10\n",
        "        count += 1\n",
        "\n",
        "print(f\"The number of digits in {num} is: {count}\")"
      ],
      "metadata": {
        "colab": {
          "base_uri": "https://localhost:8080/"
        },
        "id": "3c7CeSGLG-oD",
        "outputId": "5795b081-1e56-4ff2-b3bd-e11bcfda98ff"
      },
      "execution_count": null,
      "outputs": [
        {
          "output_type": "stream",
          "name": "stdout",
          "text": [
            "Enter an integer: 245524\n",
            "The number of digits in 245524 is: 6\n"
          ]
        }
      ]
    },
    {
      "cell_type": "markdown",
      "source": [
        "Check Leap Year\n"
      ],
      "metadata": {
        "id": "HpxeoIgMHONT"
      }
    },
    {
      "cell_type": "code",
      "source": [
        "year = int(input(\"Enter a year: \"))\n",
        "\n",
        "if (year % 4 == 0 and year % 100 != 0) or (year % 400 == 0):\n",
        "   print(f\"{year} is a leap year\")\n",
        "else:\n",
        "   print(f\"{year} is not a leap year\")"
      ],
      "metadata": {
        "colab": {
          "base_uri": "https://localhost:8080/"
        },
        "id": "OFL2teF_HQ3D",
        "outputId": "c62223dd-99ce-4f90-d827-917f1f3e7e55"
      },
      "execution_count": null,
      "outputs": [
        {
          "output_type": "stream",
          "name": "stdout",
          "text": [
            "Enter a year: 2005\n",
            "2005 is not a leap year\n"
          ]
        }
      ]
    },
    {
      "cell_type": "markdown",
      "source": [
        "Sum of Digits"
      ],
      "metadata": {
        "id": "-raUnx52LBIC"
      }
    },
    {
      "cell_type": "code",
      "source": [
        "num = int (input(\"Enter a number: \"))\n",
        "sum_of_digits = 0\n",
        "\n",
        "while num > 0:\n",
        "    digit = num % 10\n",
        "    sum_of_digits += digit\n",
        "    num //= 10\n",
        "\n",
        "print(\"Sum of digit:\", sum_of_digits)"
      ],
      "metadata": {
        "colab": {
          "base_uri": "https://localhost:8080/"
        },
        "id": "IElHlc2pLC1y",
        "outputId": "8ea3a862-2794-473a-f32d-8f66387450b0"
      },
      "execution_count": null,
      "outputs": [
        {
          "output_type": "stream",
          "name": "stdout",
          "text": [
            "Enter a number: 526\n",
            "Sum of digit: 13\n"
          ]
        }
      ]
    },
    {
      "cell_type": "markdown",
      "source": [
        "Palindrome Number"
      ],
      "metadata": {
        "id": "3-50h5r_Lmmi"
      }
    },
    {
      "cell_type": "code",
      "source": [
        "num = int(input(\"Enter a number: \"))\n",
        "temp = num\n",
        "reverse = 0\n",
        "\n",
        "while temp > 0:\n",
        "    digit = temp % 10\n",
        "    reverse = reverse * 10 + digit\n",
        "    temp //= 10\n",
        "\n",
        "if num == reverse:\n",
        "    print(f\"{num} is a palindrome number\")\n",
        "else:\n",
        "    print(f\"{num} is not a palindrome number\")"
      ],
      "metadata": {
        "colab": {
          "base_uri": "https://localhost:8080/"
        },
        "id": "ZgoSLHsnLsPS",
        "outputId": "78ca4681-25e7-40fe-deff-168353673e7f"
      },
      "execution_count": null,
      "outputs": [
        {
          "output_type": "stream",
          "name": "stdout",
          "text": [
            "Enter a number: 45\n",
            "45 is not a palindrome number\n"
          ]
        }
      ]
    },
    {
      "cell_type": "markdown",
      "source": [
        "Armstrong Number"
      ],
      "metadata": {
        "id": "X7dI-XnhLyGz"
      }
    },
    {
      "cell_type": "code",
      "source": [
        "num = int(input(\"Enter a number: \"))\n",
        "sum_of_cubes = 0\n",
        "temp = num\n",
        "\n",
        "while temp > 0:\n",
        "    digit = temp % 10\n",
        "    sum_of_cubes += digit ** 3\n",
        "    temp //= 10\n",
        "\n",
        "if num == sum_of_cubes:\n",
        "    print(f\"{num} is an Armstrong number\")\n",
        "else:\n",
        "    print(f\"{num} is not an Armstrong number\")"
      ],
      "metadata": {
        "colab": {
          "base_uri": "https://localhost:8080/"
        },
        "id": "JWTrjy04L07C",
        "outputId": "0999b3ba-cc5f-43de-8a6e-7dcccc9b69ee"
      },
      "execution_count": null,
      "outputs": [
        {
          "output_type": "stream",
          "name": "stdout",
          "text": [
            "Enter a number: 56\n",
            "56 is not an Armstrong number\n"
          ]
        }
      ]
    },
    {
      "cell_type": "code",
      "source": [],
      "metadata": {
        "id": "ziOMIF45V6ku"
      },
      "execution_count": null,
      "outputs": []
    },
    {
      "cell_type": "markdown",
      "metadata": {
        "id": "0281ec42"
      },
      "source": [
        "Greatest Common Divisor (GCD)"
      ]
    },
    {
      "cell_type": "code",
      "metadata": {
        "colab": {
          "base_uri": "https://localhost:8080/"
        },
        "id": "02b331fe",
        "outputId": "0ac72145-148d-476b-975d-730a8b89b930"
      },
      "source": [
        "import math\n",
        "\n",
        "num1 = int(input(\"Enter first number: \"))\n",
        "num2 = int(input(\"Enter second number: \"))\n",
        "\n",
        "gcd = math.gcd(num1, num2)\n",
        "\n",
        "print(f\"The GCD of {num1} and {num2} is: {gcd}\")"
      ],
      "execution_count": null,
      "outputs": [
        {
          "output_type": "stream",
          "name": "stdout",
          "text": [
            "Enter first number: 55\n",
            "Enter second number: 3\n",
            "The GCD of 55 and 3 is: 1\n"
          ]
        }
      ]
    },
    {
      "cell_type": "markdown",
      "source": [
        "create and display a list"
      ],
      "metadata": {
        "id": "wq59qd8Eh1qy"
      }
    },
    {
      "cell_type": "code",
      "source": [
        "my_list = [1, 2, 3, 4, 5]\n",
        "print(\"My list:\", my_list)"
      ],
      "metadata": {
        "colab": {
          "base_uri": "https://localhost:8080/"
        },
        "id": "kUePDL8qh6EM",
        "outputId": "b80acd9c-b42e-4806-b0b0-c0953252ccb1"
      },
      "execution_count": null,
      "outputs": [
        {
          "output_type": "stream",
          "name": "stdout",
          "text": [
            "My list: [1, 2, 3, 4, 5]\n"
          ]
        }
      ]
    },
    {
      "cell_type": "markdown",
      "source": [
        "Find length of a list"
      ],
      "metadata": {
        "id": "fNNDDeFYiOu7"
      }
    },
    {
      "cell_type": "code",
      "source": [
        "list_length = len(my_list)\n",
        "print(\"Length of the list:\", list_length)"
      ],
      "metadata": {
        "colab": {
          "base_uri": "https://localhost:8080/"
        },
        "id": "hvD6M7LIiXKa",
        "outputId": "549c706e-28bb-4154-9063-fe1e608835e2"
      },
      "execution_count": null,
      "outputs": [
        {
          "output_type": "stream",
          "name": "stdout",
          "text": [
            "Length of the list: 5\n"
          ]
        }
      ]
    },
    {
      "cell_type": "markdown",
      "source": [
        "Access elements using indexing and slicing"
      ],
      "metadata": {
        "id": "Bn8ENBTdieXr"
      }
    },
    {
      "cell_type": "code",
      "source": [
        "first_element = my_list[0]\n",
        "second_element = my_list[1]\n",
        "last_element = my_list[-1]\n",
        "\n",
        "print(\"First element:\", first_element)\n",
        "print(\"Second element:\", second_element)\n",
        "print(\"Last element:\", last_element)\n",
        "\n",
        "subset_of_list = my_list[1:4]\n",
        "print(\"Subset of list (from index 1 to 3):\", subset_of_list)"
      ],
      "metadata": {
        "colab": {
          "base_uri": "https://localhost:8080/"
        },
        "id": "7GxJo2XwipAb",
        "outputId": "2fbadef2-8244-4efb-b913-7014879d8be0"
      },
      "execution_count": null,
      "outputs": [
        {
          "output_type": "stream",
          "name": "stdout",
          "text": [
            "First element: 1\n",
            "Second element: 2\n",
            "Last element: 5\n",
            "Subset of list (from index 1 to 3): [2, 3, 4]\n"
          ]
        }
      ]
    },
    {
      "cell_type": "markdown",
      "source": [
        "Add an element at the end of a list(append)"
      ],
      "metadata": {
        "id": "2IcZNzCNiyQL"
      }
    },
    {
      "cell_type": "code",
      "source": [
        "my_list.append(6)\n",
        "print(\"List after appending:\", my_list)"
      ],
      "metadata": {
        "colab": {
          "base_uri": "https://localhost:8080/"
        },
        "id": "ieJJslxHi55z",
        "outputId": "39c3d35c-a4d7-4010-b960-38b5e441ba6a"
      },
      "execution_count": null,
      "outputs": [
        {
          "output_type": "stream",
          "name": "stdout",
          "text": [
            "List after appending: [1, 2, 3, 4, 5, 6]\n"
          ]
        }
      ]
    },
    {
      "cell_type": "markdown",
      "source": [
        "Insert an element at a specific position"
      ],
      "metadata": {
        "id": "yBI-o7WljIDj"
      }
    },
    {
      "cell_type": "code",
      "source": [
        "my_list.insert(2, 10)\n",
        "print(\"List after inserting:\", my_list)"
      ],
      "metadata": {
        "colab": {
          "base_uri": "https://localhost:8080/"
        },
        "id": "TT3qqtOYjReT",
        "outputId": "74d6a5b2-75c4-4a05-ef30-a1fc4f4e3783"
      },
      "execution_count": null,
      "outputs": [
        {
          "output_type": "stream",
          "name": "stdout",
          "text": [
            "List after inserting: [1, 2, 10, 3, 4, 5, 6]\n"
          ]
        }
      ]
    },
    {
      "cell_type": "markdown",
      "source": [
        "Remove an element from a list"
      ],
      "metadata": {
        "id": "gAkvm5N-jZe7"
      }
    },
    {
      "cell_type": "code",
      "source": [
        "my_list.remove(10)\n",
        "print(\"List after removing 10:\", my_list)"
      ],
      "metadata": {
        "colab": {
          "base_uri": "https://localhost:8080/"
        },
        "id": "D_pbVRDqjeXc",
        "outputId": "499d8ba1-c301-4e84-8179-5c5fd5c28a61"
      },
      "execution_count": null,
      "outputs": [
        {
          "output_type": "stream",
          "name": "stdout",
          "text": [
            "List after removing 10: [1, 2, 3, 4, 5, 6]\n"
          ]
        }
      ]
    },
    {
      "cell_type": "markdown",
      "source": [
        "sort a list in ascending/decending order"
      ],
      "metadata": {
        "id": "GuNwSO1zjmRD"
      }
    },
    {
      "cell_type": "code",
      "source": [
        "my_list.sort()\n",
        "print(\"List after sorting in ascending order:\", my_list)\n",
        "\n",
        "my_list.sort(reverse=True)\n",
        "print(\"List after sorting in descending order:\", my_list)"
      ],
      "metadata": {
        "colab": {
          "base_uri": "https://localhost:8080/"
        },
        "id": "GnkiQFJDjtbD",
        "outputId": "fec61883-429e-4b73-9bd6-9b46b7eb2936"
      },
      "execution_count": null,
      "outputs": [
        {
          "output_type": "stream",
          "name": "stdout",
          "text": [
            "List after sorting in ascending order: [1, 2, 3, 4, 5, 6]\n",
            "List after sorting in descending order: [6, 5, 4, 3, 2, 1]\n"
          ]
        }
      ]
    },
    {
      "cell_type": "markdown",
      "source": [
        "Find maximum and minimum element in a list"
      ],
      "metadata": {
        "id": "5S6d5Vfjj1FT"
      }
    },
    {
      "cell_type": "code",
      "source": [
        "max_element = max(my_list)\n",
        "print(\"Maximum element in the list:\", max_element)\n",
        "\n",
        "min_element = min(my_list)\n",
        "print(\"Minimum element in the list:\", min_element)"
      ],
      "metadata": {
        "colab": {
          "base_uri": "https://localhost:8080/"
        },
        "id": "qpX6qBT8j5yD",
        "outputId": "e1930649-6497-46c4-b229-8fc5e92fde44"
      },
      "execution_count": null,
      "outputs": [
        {
          "output_type": "stream",
          "name": "stdout",
          "text": [
            "Maximum element in the list: 6\n",
            "Minimum element in the list: 1\n"
          ]
        }
      ]
    },
    {
      "cell_type": "markdown",
      "source": [
        "Find the sum of all elements in a list"
      ],
      "metadata": {
        "id": "H-RzV0-ij-yj"
      }
    },
    {
      "cell_type": "code",
      "source": [
        "total_sum = sum(my_list)\n",
        "print(\"Sum of all elements in the list:\", total_sum)"
      ],
      "metadata": {
        "colab": {
          "base_uri": "https://localhost:8080/"
        },
        "id": "o753E0wlkDXb",
        "outputId": "0f1fbbb4-df28-44b7-87bc-4202c41e1374"
      },
      "execution_count": null,
      "outputs": [
        {
          "output_type": "stream",
          "name": "stdout",
          "text": [
            "Sum of all elements in the list: 21\n"
          ]
        }
      ]
    },
    {
      "cell_type": "markdown",
      "source": [
        "reverse a list"
      ],
      "metadata": {
        "id": "rqLPLK50kHq8"
      }
    },
    {
      "cell_type": "code",
      "source": [
        "my_list.reverse()\n",
        "print(\"Reversed list:\", my_list)"
      ],
      "metadata": {
        "colab": {
          "base_uri": "https://localhost:8080/"
        },
        "id": "D_gYfNpwkLEL",
        "outputId": "298ad547-d5c5-4885-91be-a60a4080e2eb"
      },
      "execution_count": null,
      "outputs": [
        {
          "output_type": "stream",
          "name": "stdout",
          "text": [
            "Reversed list: [1, 2, 3, 4, 5, 6]\n"
          ]
        }
      ]
    },
    {
      "cell_type": "markdown",
      "source": [
        "count occurrences of an element in a list"
      ],
      "metadata": {
        "id": "qSUrJPvEkPLz"
      }
    },
    {
      "cell_type": "code",
      "source": [
        "element_to_count = int(input(\"Enter the element to count: \"))\n",
        "count_of_element = my_list.count(element_to_count)\n",
        "print(f\"The element {element_to_count} appears {count_of_element} times in the list.\")"
      ],
      "metadata": {
        "colab": {
          "base_uri": "https://localhost:8080/"
        },
        "id": "ZKrcyQMGkUJr",
        "outputId": "e45abd61-b4e5-4f0b-e354-08d10edd6f5e"
      },
      "execution_count": null,
      "outputs": [
        {
          "output_type": "stream",
          "name": "stdout",
          "text": [
            "Enter the element to count: 5\n",
            "The element 5 appears 1 times in the list.\n"
          ]
        }
      ]
    },
    {
      "cell_type": "markdown",
      "source": [
        "Check if an element exists in a list"
      ],
      "metadata": {
        "id": "bKOeX7KakdfL"
      }
    },
    {
      "cell_type": "code",
      "source": [
        "element_to_check = int(input(\"Enter the element to check if it exists in the list: \"))\n",
        "if element_to_check in my_list:\n",
        "    print(f\"The element {element_to_check} exists in the list.\")\n",
        "else:\n",
        "    print(f\"The element {element_to_check} does not exist in the list.\")"
      ],
      "metadata": {
        "colab": {
          "base_uri": "https://localhost:8080/"
        },
        "id": "VhQssHcKkkEL",
        "outputId": "70fe5bde-6bbf-4a47-f69d-9d7bfb08e6bf"
      },
      "execution_count": null,
      "outputs": [
        {
          "output_type": "stream",
          "name": "stdout",
          "text": [
            "Enter the element to check if it exists in the list: 44\n",
            "The element 44 does not exist in the list.\n"
          ]
        }
      ]
    },
    {
      "cell_type": "markdown",
      "source": [
        "Convert a list into a set (to remove duplicates)"
      ],
      "metadata": {
        "id": "pfdILyDLkuXj"
      }
    },
    {
      "cell_type": "code",
      "metadata": {
        "colab": {
          "base_uri": "https://localhost:8080/"
        },
        "id": "x6f66N0Ik2DT",
        "outputId": "2b745a29-22dd-4701-bfb2-d1f3bf07df12"
      },
      "source": [
        "my_set = set(my_list)\n",
        "print(\"List converted to a set:\", my_set)"
      ],
      "execution_count": null,
      "outputs": [
        {
          "output_type": "stream",
          "name": "stdout",
          "text": [
            "List converted to a set: {1, 2, 3, 4, 5, 6}\n"
          ]
        }
      ]
    },
    {
      "cell_type": "markdown",
      "source": [
        "copy one list to another"
      ],
      "metadata": {
        "id": "5qfI8gr1k8Cc"
      }
    },
    {
      "cell_type": "code",
      "source": [
        "copied_list = my_list[:]\n",
        "print(\"Original list:\", my_list)\n",
        "print(\"Copied list:\", copied_list)"
      ],
      "metadata": {
        "colab": {
          "base_uri": "https://localhost:8080/"
        },
        "id": "h_1lj1yllAir",
        "outputId": "9715da2c-7bf1-4cdf-adca-24785daef720"
      },
      "execution_count": null,
      "outputs": [
        {
          "output_type": "stream",
          "name": "stdout",
          "text": [
            "Original list: [1, 2, 3, 4, 5, 6]\n",
            "Copied list: [1, 2, 3, 4, 5, 6]\n"
          ]
        }
      ]
    },
    {
      "cell_type": "markdown",
      "source": [
        "Merge two lists into one"
      ],
      "metadata": {
        "id": "8NitMqLXlFL7"
      }
    },
    {
      "cell_type": "code",
      "source": [
        "list2 = [7, 8, 9]\n",
        "merged_list = my_list + list2\n",
        "\n",
        "print(\"List 1:\", my_list)\n",
        "print(\"List 2:\", list2)\n",
        "print(\"Merged list:\", merged_list)"
      ],
      "metadata": {
        "colab": {
          "base_uri": "https://localhost:8080/"
        },
        "id": "BH6m0N-vlJBE",
        "outputId": "4ee5f785-d283-40fa-adff-7e290c97bc80"
      },
      "execution_count": null,
      "outputs": [
        {
          "output_type": "stream",
          "name": "stdout",
          "text": [
            "List 1: [1, 2, 3, 4, 5, 6]\n",
            "List 2: [7, 8, 9]\n",
            "Merged list: [1, 2, 3, 4, 5, 6, 7, 8, 9]\n"
          ]
        }
      ]
    },
    {
      "cell_type": "markdown",
      "source": [
        "create a tuple and print its elements"
      ],
      "metadata": {
        "id": "wVQ_UEPuSndk"
      }
    },
    {
      "cell_type": "code",
      "source": [
        "my_tuple = (10, 20, 30, 40, 50)\n",
        "print(\"My tuple:\", my_tuple)"
      ],
      "metadata": {
        "colab": {
          "base_uri": "https://localhost:8080/"
        },
        "id": "ntxnvn4MStcc",
        "outputId": "0bb29936-c681-446e-d134-878bfe7b54a0"
      },
      "execution_count": null,
      "outputs": [
        {
          "output_type": "stream",
          "name": "stdout",
          "text": [
            "My tuple: (10, 20, 30, 40, 50)\n"
          ]
        }
      ]
    },
    {
      "cell_type": "markdown",
      "source": [
        "access tuple elements using indexing and slicing"
      ],
      "metadata": {
        "id": "FPLeyDztTk5z"
      }
    },
    {
      "cell_type": "code",
      "metadata": {
        "colab": {
          "base_uri": "https://localhost:8080/"
        },
        "id": "07606bf7",
        "outputId": "76dba3ff-1153-4113-d9f9-bbbe2f5b6ad1"
      },
      "source": [
        "first_element = my_tuple[0]\n",
        "second_element = my_tuple[1]\n",
        "last_element = my_tuple[-1]\n",
        "\n",
        "print(\"First element:\", first_element)\n",
        "print(\"Second element:\", second_element)\n",
        "print(\"Last element:\", last_element)\n",
        "\n",
        "subset_of_tuple = my_tuple[1:4]\n",
        "print(\"Subset of tuple (from index 1 to 3):\", subset_of_tuple)"
      ],
      "execution_count": null,
      "outputs": [
        {
          "output_type": "stream",
          "name": "stdout",
          "text": [
            "First element: 10\n",
            "Second element: 20\n",
            "Last element: 50\n",
            "Subset of tuple (from index 1 to 3): (20, 30, 40)\n"
          ]
        }
      ]
    },
    {
      "cell_type": "markdown",
      "source": [
        "find length of a tuple using len()"
      ],
      "metadata": {
        "id": "_gYU8QBiUvS6"
      }
    },
    {
      "cell_type": "code",
      "source": [
        "tuple_length = len(my_tuple)\n",
        "print(\"Length of the tuple:\", tuple_length)"
      ],
      "metadata": {
        "colab": {
          "base_uri": "https://localhost:8080/"
        },
        "id": "Rgxixy8BU0ET",
        "outputId": "53dfebd7-ec9a-44ff-e071-92a916ddd4b3"
      },
      "execution_count": null,
      "outputs": [
        {
          "output_type": "stream",
          "name": "stdout",
          "text": [
            "Length of the tuple: 5\n"
          ]
        }
      ]
    },
    {
      "cell_type": "markdown",
      "source": [
        "Check if an element exists in a tuple using in operator"
      ],
      "metadata": {
        "id": "v2l2CtVVVDhC"
      }
    },
    {
      "cell_type": "code",
      "source": [
        "element_to_check = int(input(\"Enter the element to check if it exists in the tuple: \"))\n",
        "if element_to_check in my_tuple:\n",
        "    print(f\"{element_to_check} exists in the tuple.\")\n",
        "else:\n",
        "    print(f\"{element_to_check} does not exist in the tuple.\")"
      ],
      "metadata": {
        "colab": {
          "base_uri": "https://localhost:8080/"
        },
        "id": "_XtQE42sVNFi",
        "outputId": "8073ed29-e402-49bc-ddfc-2b0251f2ed4c"
      },
      "execution_count": null,
      "outputs": [
        {
          "output_type": "stream",
          "name": "stdout",
          "text": [
            "Enter the element to check if it exists in the tuple: 20\n",
            "20 exists in the tuple.\n"
          ]
        }
      ]
    },
    {
      "cell_type": "markdown",
      "source": [
        "Concatenate two tuples and display the result"
      ],
      "metadata": {
        "id": "bCjXlX-pVe5a"
      }
    },
    {
      "cell_type": "code",
      "source": [
        "tuple1 = (1, 2, 3)\n",
        "tuple2 = (4, 5, 6)\n",
        "concatenated_tuple = tuple1 + tuple2\n",
        "print(\"Tuple 1:\", tuple1)\n",
        "print(\"Tuple 2:\", tuple2)\n",
        "print(\"Concatenated tuple:\", concatenated_tuple)"
      ],
      "metadata": {
        "colab": {
          "base_uri": "https://localhost:8080/"
        },
        "id": "mZIf1wOvVnHx",
        "outputId": "8c3421fa-8502-42f0-d394-be73e0b00bbb"
      },
      "execution_count": null,
      "outputs": [
        {
          "output_type": "stream",
          "name": "stdout",
          "text": [
            "Tuple 1: (1, 2, 3)\n",
            "Tuple 2: (4, 5, 6)\n",
            "Concatenated tuple: (1, 2, 3, 4, 5, 6)\n"
          ]
        }
      ]
    },
    {
      "cell_type": "markdown",
      "source": [
        "Repeat a tuple multiple times using*"
      ],
      "metadata": {
        "id": "oUbsR7klVu7R"
      }
    },
    {
      "cell_type": "code",
      "source": [
        "repeated_tuple = my_tuple * 3\n",
        "print(\"Tuple repeated 3 times:\", repeated_tuple)"
      ],
      "metadata": {
        "colab": {
          "base_uri": "https://localhost:8080/"
        },
        "id": "2_r3JSwEWc8J",
        "outputId": "e35f54e0-5e1a-45c4-d746-59d1ec29d4fa"
      },
      "execution_count": null,
      "outputs": [
        {
          "output_type": "stream",
          "name": "stdout",
          "text": [
            "Tuple repeated 3 times: (10, 20, 30, 40, 50, 10, 20, 30, 40, 50, 10, 20, 30, 40, 50)\n"
          ]
        }
      ]
    },
    {
      "cell_type": "markdown",
      "source": [
        "convert list to tuple using tuple()"
      ],
      "metadata": {
        "id": "od1MLm9eWlHh"
      }
    },
    {
      "cell_type": "code",
      "source": [
        "my_list = [1, 2, 3, 4, 5]\n",
        "my_tuple_from_list = tuple(my_list)\n",
        "print(\"List converted to a tuple:\", my_tuple_from_list)"
      ],
      "metadata": {
        "colab": {
          "base_uri": "https://localhost:8080/"
        },
        "id": "ix_43N3-Wy5R",
        "outputId": "bdbf2692-dfd4-44a4-e8fa-cc8e15abd535"
      },
      "execution_count": null,
      "outputs": [
        {
          "output_type": "stream",
          "name": "stdout",
          "text": [
            "List converted to a tuple: (1, 2, 3, 4, 5)\n"
          ]
        }
      ]
    },
    {
      "cell_type": "markdown",
      "source": [
        "Unpack a tuple into variables"
      ],
      "metadata": {
        "id": "1Wba84qbW6fZ"
      }
    },
    {
      "cell_type": "code",
      "source": [
        "my_tuple = (10, 20, 30)\n",
        "a, b, c = my_tuple\n",
        "print(\"Unpacked variables:\")\n",
        "print(\"a:\", a)\n",
        "print(\"b:\", b)\n",
        "print(\"c:\", c)"
      ],
      "metadata": {
        "colab": {
          "base_uri": "https://localhost:8080/"
        },
        "id": "ega_0uZWW6LB",
        "outputId": "f200463e-22c7-4e94-ddce-9b8ca1892116"
      },
      "execution_count": null,
      "outputs": [
        {
          "output_type": "stream",
          "name": "stdout",
          "text": [
            "Unpacked variables:\n",
            "a: 10\n",
            "b: 20\n",
            "c: 30\n"
          ]
        }
      ]
    },
    {
      "cell_type": "markdown",
      "source": [
        "swap two numbers using tuple unpacking"
      ],
      "metadata": {
        "id": "t5tk1gzzXEqw"
      }
    },
    {
      "cell_type": "code",
      "source": [
        "num1 = int(input(\"Enter first number: \"))\n",
        "num2 = int(input(\"Enter second number: \"))\n",
        "\n",
        "print(\"Before swapping:\")\n",
        "print(\"First number:\", num1)\n",
        "print(\"Second number:\", num2)\n",
        "\n",
        "num1, num2 = num2, num1\n",
        "\n",
        "print(\"\\nAfter swapping:\")\n",
        "print(\"First number:\", num1)\n",
        "print(\"Second number:\", num2)"
      ],
      "metadata": {
        "colab": {
          "base_uri": "https://localhost:8080/"
        },
        "id": "4qTJ3uWyXKJo",
        "outputId": "b7eb243f-a65c-4943-dc71-9ce6ed27870f"
      },
      "execution_count": null,
      "outputs": [
        {
          "output_type": "stream",
          "name": "stdout",
          "text": [
            "Enter first number: 12\n",
            "Enter second number: 52\n",
            "Before swapping:\n",
            "First number: 12\n",
            "Second number: 52\n",
            "\n",
            "After swapping:\n",
            "First number: 52\n",
            "Second number: 12\n"
          ]
        }
      ]
    },
    {
      "cell_type": "markdown",
      "source": [
        "Find sum, min, and max of numeric tuple elements"
      ],
      "metadata": {
        "id": "VoNJ1frLXQao"
      }
    },
    {
      "cell_type": "code",
      "source": [
        "my_numeric_tuple = (10, 5, 25, 15, 30)\n",
        "\n",
        "sum_of_elements = sum(my_numeric_tuple)\n",
        "min_element = min(my_numeric_tuple)\n",
        "max_element = max(my_numeric_tuple)\n",
        "\n",
        "print(\"Numeric tuple:\", my_numeric_tuple)\n",
        "print(\"Sum of elements:\", sum_of_elements)\n",
        "print(\"Minimum element:\", min_element)\n",
        "print(\"Maximum element:\", max_element)"
      ],
      "metadata": {
        "colab": {
          "base_uri": "https://localhost:8080/"
        },
        "id": "Q9reWg5MXXLJ",
        "outputId": "d53e4b43-b2a9-4d7c-ebd7-f90c6fc207e7"
      },
      "execution_count": null,
      "outputs": [
        {
          "output_type": "stream",
          "name": "stdout",
          "text": [
            "Numeric tuple: (10, 5, 25, 15, 30)\n",
            "Sum of elements: 85\n",
            "Minimum element: 5\n",
            "Maximum element: 30\n"
          ]
        }
      ]
    },
    {
      "cell_type": "markdown",
      "source": [
        "count occurrences of an element in a tuple using count()"
      ],
      "metadata": {
        "id": "GuVX_Cp_bZU9"
      }
    },
    {
      "cell_type": "code",
      "source": [
        "element_to_count = int(input(\"Enter the element to count: \"))\n",
        "count_of_element = my_tuple.count(element_to_count)\n",
        "print(f\"The element {element_to_count} appears {count_of_element} times in the tuple.\")"
      ],
      "metadata": {
        "colab": {
          "base_uri": "https://localhost:8080/"
        },
        "id": "wnZKDy98bf1F",
        "outputId": "bc0c4ce2-0378-4661-b6c3-e938cd705794"
      },
      "execution_count": null,
      "outputs": [
        {
          "output_type": "stream",
          "name": "stdout",
          "text": [
            "Enter the element to count: 4\n",
            "The element 4 appears 0 times in the tuple.\n"
          ]
        }
      ]
    },
    {
      "cell_type": "markdown",
      "source": [
        "find index of an element in a tuple using index()"
      ],
      "metadata": {
        "id": "zYejVJsxcITV"
      }
    },
    {
      "cell_type": "code",
      "source": [
        "element_to_find = int(input(\"Enter the element to find its index: \"))\n",
        "try:\n",
        "    index_of_element = my_tuple.index(element_to_find)\n",
        "    print(f\"The element {element_to_find} is at index {index_of_element} in the tuple.\")\n",
        "except ValueError:\n",
        "    print(f\"The element {element_to_find} is not found in the tuple.\")"
      ],
      "metadata": {
        "colab": {
          "base_uri": "https://localhost:8080/"
        },
        "id": "g9LUCfpLcOT1",
        "outputId": "2c465b3e-8805-471f-9099-b1fd04e844f6"
      },
      "execution_count": null,
      "outputs": [
        {
          "output_type": "stream",
          "name": "stdout",
          "text": [
            "Enter the element to find its index: 10\n",
            "The element 10 is at index 0 in the tuple.\n"
          ]
        }
      ]
    },
    {
      "cell_type": "markdown",
      "source": [
        "sort a tuple on ascending and descending order"
      ],
      "metadata": {
        "id": "pgdDo-80c9n1"
      }
    },
    {
      "cell_type": "code",
      "source": [
        "# Tuples are immutable, so we convert to a list to sort\n",
        "my_list_from_tuple = list(my_tuple)\n",
        "\n",
        "# Sort in ascending order\n",
        "my_list_from_tuple.sort()\n",
        "sorted_ascending_tuple = tuple(my_list_from_tuple)\n",
        "print(\"Tuple sorted in ascending order:\", sorted_ascending_tuple)\n",
        "\n",
        "# Sort in descending order\n",
        "my_list_from_tuple.sort(reverse=True)\n",
        "sorted_descending_tuple = tuple(my_list_from_tuple)\n",
        "print(\"Tuple sorted in descending order:\", sorted_descending_tuple)"
      ],
      "metadata": {
        "colab": {
          "base_uri": "https://localhost:8080/"
        },
        "id": "xPaNZivndpdk",
        "outputId": "97c4050c-738b-4ba6-bb63-eaaa29f7e0e0"
      },
      "execution_count": null,
      "outputs": [
        {
          "output_type": "stream",
          "name": "stdout",
          "text": [
            "Tuple sorted in ascending order: (10, 20, 30)\n",
            "Tuple sorted in descending order: (30, 20, 10)\n"
          ]
        }
      ]
    },
    {
      "cell_type": "markdown",
      "source": [
        "convert tuple of tuples to dictionary"
      ],
      "metadata": {
        "id": "VfmKzviMduk8"
      }
    },
    {
      "cell_type": "code",
      "source": [
        "tuple_of_tuples = (('apple', 1), ('banana', 2), ('cherry', 3))\n",
        "my_dict = dict(tuple_of_tuples)\n",
        "print(\"Tuple of tuples:\", tuple_of_tuples)\n",
        "print(\"Dictionary created from tuple of tuples:\", my_dict)"
      ],
      "metadata": {
        "colab": {
          "base_uri": "https://localhost:8080/"
        },
        "id": "WibqLQLYd0Pc",
        "outputId": "4048cc51-eb9b-4b1a-bae2-fb56ab894288"
      },
      "execution_count": null,
      "outputs": [
        {
          "output_type": "stream",
          "name": "stdout",
          "text": [
            "Tuple of tuples: (('apple', 1), ('banana', 2), ('cherry', 3))\n",
            "Dictionary created from tuple of tuples: {'apple': 1, 'banana': 2, 'cherry': 3}\n"
          ]
        }
      ]
    },
    {
      "cell_type": "markdown",
      "source": [
        "find duplicate elements in tuple"
      ],
      "metadata": {
        "id": "SyPF7SI-eCJr"
      }
    },
    {
      "cell_type": "code",
      "source": [
        "my_tuple = (1, 2, 3, 2, 1, 4, 5, 4)\n",
        "duplicates = []\n",
        "seen = set()\n",
        "\n",
        "for element in my_tuple:\n",
        "    if element in seen:\n",
        "        duplicates.append(element)\n",
        "    else:\n",
        "        seen.add(element)\n",
        "\n",
        "print(\"Original tuple:\", my_tuple)\n",
        "print(\"Duplicate elements:\", list(set(duplicates)))"
      ],
      "metadata": {
        "colab": {
          "base_uri": "https://localhost:8080/"
        },
        "id": "EZpkm5vZeJwj",
        "outputId": "eb028767-8b00-40c8-b895-9989d8b6220c"
      },
      "execution_count": null,
      "outputs": [
        {
          "output_type": "stream",
          "name": "stdout",
          "text": [
            "Original tuple: (1, 2, 3, 2, 1, 4, 5, 4)\n",
            "Duplicate elements: [1, 2, 4]\n"
          ]
        }
      ]
    },
    {
      "cell_type": "markdown",
      "source": [
        "check if two tuples are equal"
      ],
      "metadata": {
        "id": "D9hcOcqdeOAL"
      }
    },
    {
      "cell_type": "code",
      "source": [
        "tuple1 = (1, 2, 3)\n",
        "tuple2 = (1, 2, 3)\n",
        "tuple3 = (4, 5, 6)\n",
        "\n",
        "print(\"Tuple 1:\", tuple1)\n",
        "print(\"Tuple 2:\", tuple2)\n",
        "print(\"Tuple 3:\", tuple3)\n",
        "\n",
        "if tuple1 == tuple2:\n",
        "    print(\"Tuple 1 and Tuple 2 are equal.\")\n",
        "else:\n",
        "    print(\"Tuple 1 and Tuple 2 are not equal.\")\n",
        "\n",
        "if tuple1 == tuple3:\n",
        "    print(\"Tuple 1 and Tuple 3 are equal.\")\n",
        "else:\n",
        "    print(\"Tuple 1 and Tuple 3 are not equal.\")"
      ],
      "metadata": {
        "colab": {
          "base_uri": "https://localhost:8080/"
        },
        "id": "2TfIliM6eX5L",
        "outputId": "ee200352-5737-492d-f8dd-a7951844c8cd"
      },
      "execution_count": null,
      "outputs": [
        {
          "output_type": "stream",
          "name": "stdout",
          "text": [
            "Tuple 1: (1, 2, 3)\n",
            "Tuple 2: (1, 2, 3)\n",
            "Tuple 3: (4, 5, 6)\n",
            "Tuple 1 and Tuple 2 are equal.\n",
            "Tuple 1 and Tuple 3 are not equal.\n"
          ]
        }
      ]
    },
    {
      "cell_type": "markdown",
      "source": [
        "remove duplicates from a tuple by converting to set"
      ],
      "metadata": {
        "id": "4U6Hqdj1edGr"
      }
    },
    {
      "cell_type": "code",
      "source": [
        "my_tuple_with_duplicates = (1, 2, 2, 3, 4, 4, 5)\n",
        "set_from_tuple = set(my_tuple_with_duplicates)\n",
        "tuple_without_duplicates = tuple(set_from_tuple)\n",
        "\n",
        "print(\"Original tuple:\", my_tuple_with_duplicates)\n",
        "print(\"Tuple without duplicates:\", tuple_without_duplicates)"
      ],
      "metadata": {
        "colab": {
          "base_uri": "https://localhost:8080/"
        },
        "id": "mvYsO1TXexZT",
        "outputId": "f9622345-a769-437d-ffc9-595e6bd6f9b6"
      },
      "execution_count": null,
      "outputs": [
        {
          "output_type": "stream",
          "name": "stdout",
          "text": [
            "Original tuple: (1, 2, 2, 3, 4, 4, 5)\n",
            "Tuple without duplicates: (1, 2, 3, 4, 5)\n"
          ]
        }
      ]
    },
    {
      "cell_type": "markdown",
      "source": [
        "merge multiple tuples into one"
      ],
      "metadata": {
        "id": "Qsk7Tgmxe1mT"
      }
    },
    {
      "cell_type": "code",
      "source": [
        "tuple1 = (1, 2)\n",
        "tuple2 = (3, 4)\n",
        "tuple3 = (5, 6)\n",
        "\n",
        "merged_tuple = tuple1 + tuple2 + tuple3\n",
        "\n",
        "print(\"Tuple 1:\", tuple1)\n",
        "print(\"Tuple 2:\", tuple2)\n",
        "print(\"Tuple 3:\", tuple3)\n",
        "print(\"Merged tuple:\", merged_tuple)"
      ],
      "metadata": {
        "colab": {
          "base_uri": "https://localhost:8080/"
        },
        "id": "qkCmTGMke6XL",
        "outputId": "4d153345-687e-4320-f437-b0f8c0f57041"
      },
      "execution_count": null,
      "outputs": [
        {
          "output_type": "stream",
          "name": "stdout",
          "text": [
            "Tuple 1: (1, 2)\n",
            "Tuple 2: (3, 4)\n",
            "Tuple 3: (5, 6)\n",
            "Merged tuple: (1, 2, 3, 4, 5, 6)\n"
          ]
        }
      ]
    },
    {
      "cell_type": "markdown",
      "source": [
        "find the element wise sum of two tuples"
      ],
      "metadata": {
        "id": "S-e1hoEde-7j"
      }
    },
    {
      "cell_type": "code",
      "source": [
        "tuple1 = (1, 2, 3)\n",
        "tuple2 = (4, 5, 6)\n",
        "\n",
        "if len(tuple1) != len(tuple2):\n",
        "    print(\"Tuples must have the same length for element-wise sum.\")\n",
        "else:\n",
        "    element_wise_sum = tuple(x + y for x, y in zip(tuple1, tuple2))\n",
        "    print(\"Tuple 1:\", tuple1)\n",
        "    print(\"Tuple 2:\", tuple2)\n",
        "    print(\"Element-wise sum:\", element_wise_sum)"
      ],
      "metadata": {
        "colab": {
          "base_uri": "https://localhost:8080/"
        },
        "id": "NsBCcqLmfEiz",
        "outputId": "074f98d1-e769-4ddc-889f-823a47d76333"
      },
      "execution_count": null,
      "outputs": [
        {
          "output_type": "stream",
          "name": "stdout",
          "text": [
            "Tuple 1: (1, 2, 3)\n",
            "Tuple 2: (4, 5, 6)\n",
            "Element-wise sum: (5, 7, 9)\n"
          ]
        }
      ]
    },
    {
      "cell_type": "markdown",
      "source": [
        "check if tuple is plaindrome (same forward and backward)"
      ],
      "metadata": {
        "id": "-oq-XXUffIzr"
      }
    },
    {
      "cell_type": "code",
      "source": [
        "my_tuple = (1, 2, 3, 2, 1)\n",
        "is_palindrome = my_tuple == my_tuple[::-1]\n",
        "\n",
        "print(\"Original tuple:\", my_tuple)\n",
        "if is_palindrome:\n",
        "    print(\"The tuple is a palindrome.\")\n",
        "else:\n",
        "    print(\"The tuple is not a palindrome.\")"
      ],
      "metadata": {
        "colab": {
          "base_uri": "https://localhost:8080/"
        },
        "id": "Sqr-Vyt-fQF7",
        "outputId": "71692579-2df7-4d59-8a78-dbbacc412590"
      },
      "execution_count": null,
      "outputs": [
        {
          "output_type": "stream",
          "name": "stdout",
          "text": [
            "Original tuple: (1, 2, 3, 2, 1)\n",
            "The tuple is a palindrome.\n"
          ]
        }
      ]
    },
    {
      "cell_type": "markdown",
      "source": [
        "Function of integer"
      ],
      "metadata": {
        "id": "SZcTnZjrWFFX"
      }
    },
    {
      "cell_type": "code",
      "source": [
        "def is_even_or_odd(number):\n",
        "    \"\"\"Checks if a number is even or odd.\"\"\"\n",
        "    if number % 2 == 0:\n",
        "        return f\"{number} is even.\"\n",
        "    else:\n",
        "        return f\"{number} is odd.\"\n",
        "\n",
        "# Example usage\n",
        "num = int(input(\"Enter an integer: \"))\n",
        "print(is_even_or_odd(num))"
      ],
      "metadata": {
        "colab": {
          "base_uri": "https://localhost:8080/"
        },
        "id": "UxMW7VW-WK5P",
        "outputId": "14782383-5c34-4294-afb7-b40ab9f8c18f"
      },
      "execution_count": null,
      "outputs": [
        {
          "output_type": "stream",
          "name": "stdout",
          "text": [
            "Enter an integer: 45\n",
            "45 is odd.\n"
          ]
        }
      ]
    },
    {
      "cell_type": "markdown",
      "source": [
        "Function of Float"
      ],
      "metadata": {
        "id": "O6ZJYF9PWkao"
      }
    },
    {
      "cell_type": "code",
      "source": [
        "import math\n",
        "\n",
        "def square_root_of_float(number):\n",
        "    \"\"\"Calculates the square root of a float.\"\"\"\n",
        "    if number >= 0:\n",
        "        return math.sqrt(number)\n",
        "    else:\n",
        "        return \"Cannot calculate the square root of a negative number.\"\n",
        "\n",
        "# Example usage\n",
        "float_num = float(input(\"Enter a float number: \"))\n",
        "print(f\"The square root is: {square_root_of_float(float_num)}\")"
      ],
      "metadata": {
        "colab": {
          "base_uri": "https://localhost:8080/"
        },
        "id": "gVjf3iqvWpLP",
        "outputId": "8228bdd5-aa74-49ce-c9fa-08c700939bab"
      },
      "execution_count": null,
      "outputs": [
        {
          "output_type": "stream",
          "name": "stdout",
          "text": [
            "Enter a float number: 2.000\n",
            "The square root is: 1.4142135623730951\n"
          ]
        }
      ]
    },
    {
      "cell_type": "markdown",
      "source": [
        "Function of complex numbers"
      ],
      "metadata": {
        "id": "NREq10iAW0n_"
      }
    },
    {
      "cell_type": "code",
      "source": [
        "def add_complex_numbers(num1, num2):\n",
        "    \"\"\"Adds two complex numbers.\"\"\"\n",
        "    return num1 + num2\n",
        "\n",
        "# Example usage\n",
        "complex_num1 = 3 + 4j\n",
        "complex_num2 = 1 - 2j\n",
        "sum_of_complex = add_complex_numbers(complex_num1, complex_num2)\n",
        "print(f\"The sum of {complex_num1} and {complex_num2} is: {sum_of_complex}\")"
      ],
      "metadata": {
        "colab": {
          "base_uri": "https://localhost:8080/"
        },
        "id": "uLCQbCzLXS0v",
        "outputId": "e1551582-7329-4504-ee54-9ba3fafa9969"
      },
      "execution_count": null,
      "outputs": [
        {
          "output_type": "stream",
          "name": "stdout",
          "text": [
            "The sum of (3+4j) and (1-2j) is: (4+2j)\n"
          ]
        }
      ]
    },
    {
      "cell_type": "markdown",
      "source": [
        "function of boolean"
      ],
      "metadata": {
        "id": "Ns-JZbZ6Xak_"
      }
    },
    {
      "cell_type": "code",
      "source": [
        "def check_truthiness(value):\n",
        "  \"\"\"Checks the truthiness of a boolean value.\"\"\"\n",
        "  if value:\n",
        "    return \"The value is True.\"\n",
        "  else:\n",
        "    return \"The value is False.\"\n",
        "\n",
        "# Example usage with user input\n",
        "user_input = input(\"Enter True or False: \")\n",
        "# Convert the user input string to a boolean\n",
        "if user_input.lower() == 'true':\n",
        "  my_boolean = True\n",
        "elif user_input.lower() == 'false':\n",
        "  my_boolean = False\n",
        "else:\n",
        "  print(\"Invalid input. Please enter True or False.\")\n",
        "  my_boolean = None # Assign None for invalid input\n",
        "\n",
        "if my_boolean is not None:\n",
        "  print(check_truthiness(my_boolean))"
      ],
      "metadata": {
        "colab": {
          "base_uri": "https://localhost:8080/"
        },
        "id": "GpUXeopcXpXf",
        "outputId": "25a87019-998f-4e74-94ea-8e66b2ae9e50"
      },
      "execution_count": null,
      "outputs": [
        {
          "output_type": "stream",
          "name": "stdout",
          "text": [
            "Enter True or False: true\n",
            "The value is True.\n"
          ]
        }
      ]
    },
    {
      "cell_type": "markdown",
      "source": [
        "Function of String"
      ],
      "metadata": {
        "id": "FfDAp77HX0eP"
      }
    },
    {
      "cell_type": "code",
      "source": [
        "def reverse_string(text):\n",
        "    \"\"\"Reverses a given string.\"\"\"\n",
        "    return text[::-1]\n",
        "\n",
        "# Example usage with user input\n",
        "user_string = input(\"Enter a string to reverse: \")\n",
        "reversed_string = reverse_string(user_string)\n",
        "print(\"Reversed string:\", reversed_string)"
      ],
      "metadata": {
        "colab": {
          "base_uri": "https://localhost:8080/"
        },
        "id": "z0W1THXcX4L3",
        "outputId": "ba5cab7c-a482-425c-ea64-0bd7f4543d2f"
      },
      "execution_count": null,
      "outputs": [
        {
          "output_type": "stream",
          "name": "stdout",
          "text": [
            "Enter a string to reverse: Hello\n",
            "Reversed string: olleH\n"
          ]
        }
      ]
    },
    {
      "cell_type": "markdown",
      "source": [
        "Function of String Operation"
      ],
      "metadata": {
        "id": "FbPoa3xIX-KH"
      }
    },
    {
      "cell_type": "code",
      "source": [
        "def convert_to_uppercase(text):\n",
        "    \"\"\"Converts a string to uppercase.\"\"\"\n",
        "    return text.upper()\n",
        "\n",
        "# Example usage with user input\n",
        "user_string = input(\"Enter a string to convert to uppercase: \")\n",
        "uppercase_string = convert_to_uppercase(user_string)\n",
        "print(\"Uppercase string:\", uppercase_string)"
      ],
      "metadata": {
        "colab": {
          "base_uri": "https://localhost:8080/"
        },
        "id": "-KkVUs46YEOH",
        "outputId": "08ce11e2-3984-4ea4-9805-e82dc353cf4e"
      },
      "execution_count": null,
      "outputs": [
        {
          "output_type": "stream",
          "name": "stdout",
          "text": [
            "Enter a string to convert to uppercase: hello\n",
            "Uppercase string: HELLO\n"
          ]
        }
      ]
    },
    {
      "cell_type": "markdown",
      "source": [
        "merge two strings"
      ],
      "metadata": {
        "id": "L7SIJWjNYNtP"
      }
    },
    {
      "cell_type": "code",
      "source": [
        "def merge_strings(str1, str2):\n",
        "    \"\"\"Merges two strings.\"\"\"\n",
        "    return str1 + str2\n",
        "\n",
        "# Example usage with user input\n",
        "string1 = input(\"Enter the first string: \")\n",
        "string2 = input(\"Enter the second string: \")\n",
        "merged_string = merge_strings(string1, string2)\n",
        "print(\"Merged string:\", merged_string)"
      ],
      "metadata": {
        "colab": {
          "base_uri": "https://localhost:8080/"
        },
        "id": "T1-9YbzAY-U3",
        "outputId": "cd73ce4e-fc96-4bd8-b087-0649331ef931"
      },
      "execution_count": null,
      "outputs": [
        {
          "output_type": "stream",
          "name": "stdout",
          "text": [
            "Enter the first string: good\n",
            "Enter the second string: morning\n",
            "Merged string: goodmorning\n"
          ]
        }
      ]
    },
    {
      "cell_type": "markdown",
      "source": [
        "Indexing & Slicing"
      ],
      "metadata": {
        "id": "yMKX3aHPZI-g"
      }
    },
    {
      "cell_type": "code",
      "source": [
        "my_string = \"Hello, World!\"\n",
        "\n",
        "# Indexing\n",
        "first_character = my_string[0]\n",
        "print(\"First character:\", first_character)\n",
        "\n",
        "last_character = my_string[-1]\n",
        "print(\"Last character:\", last_character)\n",
        "\n",
        "# Slicing\n",
        "substring = my_string[0:5]  # Characters from index 0 up to (but not including) index 5\n",
        "print(\"Substring (first 5 characters):\", substring)\n",
        "\n",
        "substring_from_index = my_string[7:] # Characters from index 7 to the end\n",
        "print(\"Substring from index 7:\", substring_from_index)\n",
        "\n",
        "substring_to_index = my_string[:5] # Characters from the beginning up to (but not including) index 5\n",
        "print(\"Substring up to index 5:\", substring_to_index)\n",
        "\n",
        "reversed_string = my_string[::-1] # Reverse the string\n",
        "print(\"Reversed string:\", reversed_string)"
      ],
      "metadata": {
        "colab": {
          "base_uri": "https://localhost:8080/"
        },
        "id": "S_eDojY4ZNtf",
        "outputId": "0cec0485-5ca8-47d6-ef11-764c0e42923e"
      },
      "execution_count": null,
      "outputs": [
        {
          "output_type": "stream",
          "name": "stdout",
          "text": [
            "First character: H\n",
            "Last character: !\n",
            "Substring (first 5 characters): Hello\n",
            "Substring from index 7: World!\n",
            "Substring up to index 5: Hello\n",
            "Reversed string: !dlroW ,olleH\n"
          ]
        }
      ]
    },
    {
      "cell_type": "markdown",
      "source": [
        "String Function"
      ],
      "metadata": {
        "id": "TD7zm8_2ZbSv"
      }
    },
    {
      "cell_type": "code",
      "source": [
        "my_string = \"Hello World, This is a test string.\"\n",
        "\n",
        "# len() - returns the length of the string\n",
        "string_length = len(my_string)\n",
        "print(\"Length of the string:\", string_length)\n",
        "\n",
        "# .lower() - converts the string to lowercase\n",
        "lowercase_string = my_string.lower()\n",
        "print(\"Lowercase string:\", lowercase_string)\n",
        "\n",
        "# .upper() - converts the string to uppercase\n",
        "uppercase_string = my_string.upper()\n",
        "print(\"Uppercase string:\", uppercase_string)\n",
        "\n",
        "# .split() - splits the string into a list of substrings\n",
        "split_string = my_string.split(\" \") # Split by space\n",
        "print(\"String split by space:\", split_string)\n",
        "\n",
        "# .replace() - replaces occurrences of a substring with another substring\n",
        "replaced_string = my_string.replace(\"test\", \"example\")\n",
        "print(\"String with 'test' replaced by 'example':\", replaced_string)"
      ],
      "metadata": {
        "colab": {
          "base_uri": "https://localhost:8080/"
        },
        "id": "mYx7w4MhZdsP",
        "outputId": "540766e3-b061-4634-cfae-d5dad4d42e10"
      },
      "execution_count": null,
      "outputs": [
        {
          "output_type": "stream",
          "name": "stdout",
          "text": [
            "Length of the string: 35\n",
            "Lowercase string: hello world, this is a test string.\n",
            "Uppercase string: HELLO WORLD, THIS IS A TEST STRING.\n",
            "String split by space: ['Hello', 'World,', 'This', 'is', 'a', 'test', 'string.']\n",
            "String with 'test' replaced by 'example': Hello World, This is a example string.\n"
          ]
        }
      ]
    },
    {
      "cell_type": "markdown",
      "source": [
        "Tupple operations"
      ],
      "metadata": {
        "id": "JeTtGknFZu1X"
      }
    },
    {
      "cell_type": "code",
      "source": [
        "# Create a tuple\n",
        "my_tuple = (10, 20, 30, 40, 50)\n",
        "\n",
        "# Display the tuple\n",
        "print(\"My tuple:\", my_tuple)"
      ],
      "metadata": {
        "colab": {
          "base_uri": "https://localhost:8080/"
        },
        "id": "sGy-RZ-DZybI",
        "outputId": "1a313818-0847-4742-9557-1d0bd7c2a354"
      },
      "execution_count": null,
      "outputs": [
        {
          "output_type": "stream",
          "name": "stdout",
          "text": [
            "My tuple: (10, 20, 30, 40, 50)\n"
          ]
        }
      ]
    },
    {
      "cell_type": "markdown",
      "source": [
        "Write a program for loop to calculate the value of an investment input an inital value of investment and annual interest and calculate the value of investment over time\n"
      ],
      "metadata": {
        "id": "MatMEqH5aVWv"
      }
    },
    {
      "cell_type": "code",
      "source": [
        "initial_investment = float(input(\"Enter the initial investment amount: \"))\n",
        "annual_interest_rate = float(input(\"Enter the annual interest rate: \"))\n",
        "number_of_years = int(input(\"Enter the number of years: \"))\n",
        "\n",
        "investment_value = initial_investment\n",
        "\n",
        "print(f\"\\nInitial investment: ${initial_investment:.2f}\")\n",
        "print(f\"Annual interest rate: {annual_interest_rate:.2%}\")\n",
        "print(f\"Number of years: {number_of_years}\\n\")\n",
        "print(\"Year | Investment Value\")\n",
        "print(\"-----|------------------\")\n",
        "\n",
        "for year in range(1, number_of_years + 1):\n",
        "    investment_value = investment_value * (1 + annual_interest_rate)\n",
        "    print(f\"{year:<4} | ${investment_value:.2f}\")"
      ],
      "metadata": {
        "colab": {
          "base_uri": "https://localhost:8080/"
        },
        "id": "muBJJz6IpTSG",
        "outputId": "60ccc245-94e1-4e16-e5a7-767c4ece40f7"
      },
      "execution_count": null,
      "outputs": [
        {
          "output_type": "stream",
          "name": "stdout",
          "text": [
            "Enter the initial investment amount: 2300\n",
            "Enter the annual interest rate: 5\n",
            "Enter the number of years: 3\n",
            "\n",
            "Initial investment: $2300.00\n",
            "Annual interest rate: 500.00%\n",
            "Number of years: 3\n",
            "\n",
            "Year | Investment Value\n",
            "-----|------------------\n",
            "1    | $13800.00\n",
            "2    | $82800.00\n",
            "3    | $496800.00\n"
          ]
        }
      ]
    },
    {
      "cell_type": "markdown",
      "source": [
        "Write a program accept a string from user and redisplays the same string after vowels from it\n"
      ],
      "metadata": {
        "id": "rQSmhJgbtF_v"
      }
    },
    {
      "cell_type": "code",
      "source": [
        "user_string = input(\"Enter a string: \")\n",
        "vowels = \"aeiouAEIOU\"\n",
        "string_without_vowels = \"\"\n",
        "\n",
        "for char in user_string:\n",
        "    if char not in vowels:\n",
        "        string_without_vowels += char\n",
        "\n",
        "print(\"String without vowels:\", string_without_vowels)"
      ],
      "metadata": {
        "colab": {
          "base_uri": "https://localhost:8080/"
        },
        "id": "_tn6Io9stSwv",
        "outputId": "5a5ff389-90b9-409d-9a6d-7d2dc0ee8d28"
      },
      "execution_count": null,
      "outputs": [
        {
          "output_type": "stream",
          "name": "stdout",
          "text": [
            "Enter a string: water\n",
            "String without vowels: wtr\n"
          ]
        }
      ]
    },
    {
      "cell_type": "markdown",
      "source": [
        "Write a program that counts the occurences of character in a string do not use built in count function"
      ],
      "metadata": {
        "id": "Mo5sRGbQww6f"
      }
    },
    {
      "cell_type": "code",
      "source": [
        "user_string = input(\"Enter a string: \")\n",
        "char_to_count = input(\"Enter the character to count: \")\n",
        "count = 0\n",
        "\n",
        "for char in user_string:\n",
        "    if char == char_to_count:\n",
        "        count += 1\n",
        "\n",
        "print(f\"The character '{char_to_count}' appears {count} times in the string.\")"
      ],
      "metadata": {
        "colab": {
          "base_uri": "https://localhost:8080/"
        },
        "id": "jqZTUZgKw9qX",
        "outputId": "c1751e16-a279-41a6-b887-62cfa17ec29a"
      },
      "execution_count": null,
      "outputs": [
        {
          "output_type": "stream",
          "name": "stdout",
          "text": [
            "Enter a string: Good Morning\n",
            "Enter the character to count: o\n",
            "The character 'o' appears 3 times in the string.\n"
          ]
        }
      ]
    },
    {
      "cell_type": "markdown",
      "source": [
        "Design and implement a menu driven student cousre management system in python using set data sturctures the system should stoire student names along with the courses they are erolled in it must demonstrate various set operations such as union intersection difference symmetric difference subset superset and disjoint checks\n",
        "\n"
      ],
      "metadata": {
        "id": "ZGUKZ2B0apz7"
      }
    },
    {
      "cell_type": "code",
      "source": [
        "def add_student(students_db):\n",
        "    name = input(\"Enter student name: \")\n",
        "    courses_input = input(\"Enter courses (comma-separated): \")\n",
        "    courses = set([course.strip() for course in courses_input.split(',')])\n",
        "    students_db[name] = courses\n",
        "    print(f\"Student '{name}' added with courses: {courses}\")\n",
        "\n",
        "def display_students(students_db):\n",
        "    print(\"\\n--- Student Enrollment ---\")\n",
        "    if students_db:\n",
        "        for name, courses in students_db.items():\n",
        "            print(f\"{name}: {courses}\")\n",
        "    else:\n",
        "        print(\"No students added yet.\")\n",
        "    print(\"--------------------------\")\n",
        "\n",
        "def find_students_in_common_courses(students_db):\n",
        "    course1 = input(\"Enter the first course: \")\n",
        "    course2 = input(\"Enter the second course: \")\n",
        "    common_students = set()\n",
        "    for name, courses in students_db.items():\n",
        "        if course1 in courses and course2 in courses:\n",
        "            common_students.add(name)\n",
        "\n",
        "    if common_students:\n",
        "        print(f\"\\nStudents enrolled in both {course1} and {course2}: {common_students}\")\n",
        "    else:\n",
        "        print(f\"\\nNo students enrolled in both {course1} and {course2}.\")\n",
        "\n",
        "def main():\n",
        "    students_db = {}\n",
        "\n",
        "    while True:\n",
        "        print(\"\\n--- Student Course Management Menu ---\")\n",
        "        print(\"1. Add Student\")\n",
        "        print(\"2. Display All Students and Courses\")\n",
        "        print(\"3. Find Students in Common Courses\")\n",
        "        print(\"4. Exit\")\n",
        "\n",
        "        choice = input(\"Enter your choice: \")\n",
        "\n",
        "        if choice == '1':\n",
        "            add_student(students_db)\n",
        "        elif choice == '2':\n",
        "            display_students(students_db)\n",
        "        elif choice == '3':\n",
        "            find_students_in_common_courses(students_db)\n",
        "        elif choice == '4':\n",
        "            print(\"Exiting program. Goodbye!\")\n",
        "            break\n",
        "        else:\n",
        "            print(\"Invalid choice. Please try again.\")\n",
        "\n",
        "if __name__ == \"__main__\":\n",
        "    main()"
      ],
      "metadata": {
        "colab": {
          "base_uri": "https://localhost:8080/"
        },
        "id": "LCW9g6vzb6S6",
        "outputId": "7ab3e51e-07de-4b29-f8c6-0feff5455a7d"
      },
      "execution_count": null,
      "outputs": [
        {
          "output_type": "stream",
          "name": "stdout",
          "text": [
            "\n",
            "--- Student Course Management Menu ---\n",
            "1. Add Student\n",
            "2. Display All Students and Courses\n",
            "3. Find Students in Common Courses\n",
            "4. Exit\n",
            "Enter your choice: 1\n",
            "Enter student name: Luis Ford\n",
            "Enter courses (comma-separated): Dcan , Maths\n",
            "Student 'Luis Ford' added with courses: {'Maths', 'Dcan'}\n",
            "\n",
            "--- Student Course Management Menu ---\n",
            "1. Add Student\n",
            "2. Display All Students and Courses\n",
            "3. Find Students in Common Courses\n",
            "4. Exit\n",
            "Enter your choice: 2\n",
            "\n",
            "--- Student Enrollment ---\n",
            "Luis Ford: {'Maths', 'Dcan'}\n",
            "--------------------------\n",
            "\n",
            "--- Student Course Management Menu ---\n",
            "1. Add Student\n",
            "2. Display All Students and Courses\n",
            "3. Find Students in Common Courses\n",
            "4. Exit\n",
            "Enter your choice: 3\n",
            "Enter the first course: maths\n",
            "Enter the second course: dcan\n",
            "\n",
            "No students enrolled in both maths and dcan.\n",
            "\n",
            "--- Student Course Management Menu ---\n",
            "1. Add Student\n",
            "2. Display All Students and Courses\n",
            "3. Find Students in Common Courses\n",
            "4. Exit\n",
            "Enter your choice: 3\n",
            "Enter the first course: Maths\n",
            "Enter the second course: Dcan\n",
            "\n",
            "Students enrolled in both Maths and Dcan: {'Luis Ford'}\n",
            "\n",
            "--- Student Course Management Menu ---\n",
            "1. Add Student\n",
            "2. Display All Students and Courses\n",
            "3. Find Students in Common Courses\n",
            "4. Exit\n",
            "Enter your choice: 4\n",
            "Exiting program. Goodbye!\n"
          ]
        }
      ]
    },
    {
      "cell_type": "markdown",
      "source": [],
      "metadata": {
        "id": "6sSnhD_UhA9E"
      }
    },
    {
      "cell_type": "code",
      "source": [
        "students = {}\n",
        "\n",
        "while True:\n",
        "  print(\"\\n======STUDENT COURSE MANAGEMENT SYSTEM======\")\n",
        "  print(\"1. Add Student and their Courses\")\n",
        "  print(\"2. Show All Students with Courses\")\n",
        "  print(\"3. Exit\")\n",
        "\n",
        "  choice = input(\"Enter your choice: \")\n",
        "\n",
        "  if choice == \"1\":\n",
        "    name = input(\"Enter student name: \")\n",
        "    courses = input(\"Enter courses (comma-separated): \").split(\",\")\n",
        "    students[name] = set(course.strip() for course in courses)\n",
        "    print (\"Student added successfully\")\n",
        "  elif choice == \"2\": # Changed from else if to elif\n",
        "    if not students:\n",
        "      print(\"No students found!\")\n",
        "    else:\n",
        "      for name, courses in students.items(): # Removed semicolon\n",
        "        print(name,\":\",courses)\n",
        "  elif choice == \"3\": # Changed from else if to elif\n",
        "    print(\"Exiting program. Goodbye!\")\n",
        "    break\n",
        "  else:\n",
        "    print(\"Invalid choice. Please try again.\")"
      ],
      "metadata": {
        "colab": {
          "base_uri": "https://localhost:8080/"
        },
        "id": "e30gkW5fhCJj",
        "outputId": "beeb59ee-d5aa-472f-8e32-14c7e340fe54"
      },
      "execution_count": null,
      "outputs": [
        {
          "name": "stdout",
          "output_type": "stream",
          "text": [
            "\n",
            "======STUDENT COURSE MANAGEMENT SYSTEM======\n",
            "1. Add Student and their Courses\n",
            "2. Show All Students with Courses\n",
            "3. Exit\n",
            "Enter your choice: 1\n",
            "Enter student name: ritik\n"
          ]
        }
      ]
    }
  ]
}